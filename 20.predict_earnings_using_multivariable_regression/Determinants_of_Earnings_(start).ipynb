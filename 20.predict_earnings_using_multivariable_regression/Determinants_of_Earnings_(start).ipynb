{
  "nbformat": 4,
  "nbformat_minor": 0,
  "metadata": {
    "colab": {
      "provenance": []
    },
    "kernelspec": {
      "name": "python3",
      "display_name": "Python 3"
    }
  },
  "cells": [
    {
      "cell_type": "markdown",
      "metadata": {
        "id": "BHg0HZz-intQ"
      },
      "source": [
        "# Introduction"
      ]
    },
    {
      "cell_type": "markdown",
      "metadata": {
        "id": "V2RQkgAbiqJv"
      },
      "source": [
        "The National Longitudinal Survey of Youth 1997-2011 dataset is one of the most important databases available to social scientists working with US data. \n",
        "\n",
        "It allows scientists to look at the determinants of earnings as well as educational attainment and has incredible relevance for government policy. It can also shed light on politically sensitive issues like how different educational attainment and salaries are for people of different ethnicity, sex, and other factors. When we have a better understanding how these variables affect education and earnings we can also formulate more suitable government policies. \n",
        "\n",
        "<center><img src=https://i.imgur.com/cxBpQ3I.png height=400></center>\n"
      ]
    },
    {
      "cell_type": "markdown",
      "metadata": {
        "id": "YjCPWWUSirY_"
      },
      "source": [
        "### Upgrade Plotly"
      ]
    },
    {
      "cell_type": "code",
      "metadata": {
        "id": "v74l3QCGirIX",
        "colab": {
          "base_uri": "https://localhost:8080/"
        },
        "outputId": "4ad4c5db-0535-4ded-dace-8b2caf946bb4"
      },
      "source": [
        "%pip install --upgrade plotly"
      ],
      "execution_count": 1,
      "outputs": [
        {
          "output_type": "stream",
          "name": "stdout",
          "text": [
            "Looking in indexes: https://pypi.org/simple, https://us-python.pkg.dev/colab-wheels/public/simple/\n",
            "Requirement already satisfied: plotly in /usr/local/lib/python3.8/dist-packages (5.5.0)\n",
            "Collecting plotly\n",
            "  Downloading plotly-5.11.0-py2.py3-none-any.whl (15.3 MB)\n",
            "\u001b[2K     \u001b[90m━━━━━━━━━━━━━━━━━━━━━━━━━━━━━━━━━━━━━━━━\u001b[0m \u001b[32m15.3/15.3 MB\u001b[0m \u001b[31m64.8 MB/s\u001b[0m eta \u001b[36m0:00:00\u001b[0m\n",
            "\u001b[?25hRequirement already satisfied: tenacity>=6.2.0 in /usr/local/lib/python3.8/dist-packages (from plotly) (8.1.0)\n",
            "Installing collected packages: plotly\n",
            "  Attempting uninstall: plotly\n",
            "    Found existing installation: plotly 5.5.0\n",
            "    Uninstalling plotly-5.5.0:\n",
            "      Successfully uninstalled plotly-5.5.0\n",
            "Successfully installed plotly-5.11.0\n"
          ]
        }
      ]
    },
    {
      "cell_type": "markdown",
      "metadata": {
        "id": "br_QkHBMjC1Q"
      },
      "source": [
        "###  Import Statements\n"
      ]
    },
    {
      "cell_type": "code",
      "metadata": {
        "id": "gSKZx-kwie_u"
      },
      "source": [
        "import pandas as pd\n",
        "import numpy as np\n",
        "\n",
        "import seaborn as sns\n",
        "import plotly.express as px\n",
        "import matplotlib.pyplot as plt\n",
        "\n",
        "from sklearn.linear_model import LinearRegression\n",
        "from sklearn.model_selection import train_test_split"
      ],
      "execution_count": 2,
      "outputs": []
    },
    {
      "cell_type": "markdown",
      "metadata": {
        "id": "9pgsrth_izCn"
      },
      "source": [
        "## Notebook Presentation"
      ]
    },
    {
      "cell_type": "code",
      "metadata": {
        "id": "Cgwu-WbBizqY"
      },
      "source": [
        "pd.options.display.float_format = '{:,.2f}'.format"
      ],
      "execution_count": 3,
      "outputs": []
    },
    {
      "cell_type": "markdown",
      "metadata": {
        "id": "E5bhysOOjLRr"
      },
      "source": [
        "# Load the Data\n",
        "\n"
      ]
    },
    {
      "cell_type": "code",
      "metadata": {
        "id": "6VngeTQwjM-X"
      },
      "source": [
        "df_data = pd.read_csv('NLSY97_subset.csv')"
      ],
      "execution_count": 4,
      "outputs": []
    },
    {
      "cell_type": "markdown",
      "metadata": {
        "id": "_ZjIBJ5jjrj0"
      },
      "source": [
        "### Understand the Dataset\n",
        "\n",
        "Have a look at the file entitled `NLSY97_Variable_Names_and_Descriptions.csv`. \n",
        "\n",
        "---------------------------\n",
        "\n",
        "    :Key Variables:  \n",
        "      1. S           Years of schooling (highest grade completed as of 2011)\n",
        "      2. EXP         Total out-of-school work experience (years) as of the 2011 interview.\n",
        "      3. EARNINGS    Current hourly earnings in $ reported at the 2011 interview"
      ]
    },
    {
      "cell_type": "markdown",
      "metadata": {
        "id": "8MkSxkjVnIfW"
      },
      "source": [
        "# Preliminary Data Exploration 🔎\n",
        "\n",
        "**Challenge**\n",
        "\n",
        "* What is the shape of `df_data`? \n",
        "* How many rows and columns does it have?\n",
        "* What are the column names?\n",
        "* Are there any NaN values or duplicates?"
      ]
    },
    {
      "cell_type": "code",
      "metadata": {
        "id": "V_cQguBbjwZv",
        "colab": {
          "base_uri": "https://localhost:8080/"
        },
        "outputId": "bb0dc941-4e68-4e8f-b345-d35e2b5efe12"
      },
      "source": [
        "print(f\"Shape: {df_data.shape}\")\n",
        "print(f\"Column names: {df_data.columns}\")"
      ],
      "execution_count": 5,
      "outputs": [
        {
          "output_type": "stream",
          "name": "stdout",
          "text": [
            "Shape: (2000, 96)\n",
            "Column names: Index(['ID', 'EARNINGS', 'S', 'EXP', 'FEMALE', 'MALE', 'BYEAR', 'AGE',\n",
            "       'AGEMBTH', 'HHINC97', 'POVRAT97', 'HHBMBF', 'HHBMOF', 'HHOMBF',\n",
            "       'HHBMONLY', 'HHBFONLY', 'HHOTHER', 'MSA97NO', 'MSA97NCC', 'MSA97CC',\n",
            "       'MSA97NK', 'ETHBLACK', 'ETHHISP', 'ETHWHITE', 'EDUCPROF', 'EDUCPHD',\n",
            "       'EDUCMAST', 'EDUCBA', 'EDUCAA', 'EDUCHSD', 'EDUCGED', 'EDUCDO',\n",
            "       'PRMONM', 'PRMONF', 'PRMSTYUN', 'PRMSTYPE', 'PRMSTYAN', 'PRMSTYAE',\n",
            "       'PRFSTYUN', 'PRFSTYPE', 'PRFSTYAN', 'PRFSTYAE', 'SINGLE', 'MARRIED',\n",
            "       'COHABIT', 'OTHSING', 'FAITHN', 'FAITHP', 'FAITHC', 'FAITHJ', 'FAITHO',\n",
            "       'FAITHM', 'ASVABAR', 'ASVABWK', 'ASVABPC', 'ASVABMK', 'ASVABNO',\n",
            "       'ASVABCS', 'ASVABC', 'ASVABC4', 'VERBAL', 'ASVABMV', 'HEIGHT',\n",
            "       'WEIGHT04', 'WEIGHT11', 'SF', 'SM', 'SFR', 'SMR', 'SIBLINGS', 'REG97NE',\n",
            "       'REG97NC', 'REG97S', 'REG97W', 'RS97RURL', 'RS97URBN', 'RS97UNKN',\n",
            "       'JOBS', 'HOURS', 'TENURE', 'CATGOV', 'CATPRI', 'CATNPO', 'CATMIS',\n",
            "       'CATSE', 'COLLBARG', 'URBAN', 'REGNE', 'REGNC', 'REGW', 'REGS',\n",
            "       'MSA11NO', 'MSA11NCC', 'MSA11CC', 'MSA11NK', 'MSA11NIC'],\n",
            "      dtype='object')\n"
          ]
        }
      ]
    },
    {
      "cell_type": "code",
      "source": [
        "print(f\"Is nan present? {df_data.isna().values.any()}\")\n",
        "print(f\"Is duplicated values? {df_data.duplicated().values.any()}\")"
      ],
      "metadata": {
        "colab": {
          "base_uri": "https://localhost:8080/"
        },
        "id": "VfZ4rmlh00Db",
        "outputId": "1b2498d9-52ff-419d-8c39-06ed964d72d7"
      },
      "execution_count": 6,
      "outputs": [
        {
          "output_type": "stream",
          "name": "stdout",
          "text": [
            "Is nan present? True\n",
            "Is duplicated values? True\n"
          ]
        }
      ]
    },
    {
      "cell_type": "markdown",
      "metadata": {
        "id": "4itxqgP6nQj3"
      },
      "source": [
        "## Data Cleaning - Check for Missing Values and Duplicates\n",
        "\n",
        "Find and remove any duplicate rows."
      ]
    },
    {
      "cell_type": "code",
      "metadata": {
        "id": "J3DHEFXWnS2N"
      },
      "source": [
        "df_data.dropna(inplace=True)\n",
        "df_data.drop_duplicates(inplace=True)"
      ],
      "execution_count": 7,
      "outputs": []
    },
    {
      "cell_type": "code",
      "source": [
        "df_data.shape"
      ],
      "metadata": {
        "colab": {
          "base_uri": "https://localhost:8080/"
        },
        "id": "lS8B4sf62j-T",
        "outputId": "5067ae95-c1f2-49fd-9159-4f2a38e5c9bc"
      },
      "execution_count": 8,
      "outputs": [
        {
          "output_type": "execute_result",
          "data": {
            "text/plain": [
              "(492, 96)"
            ]
          },
          "metadata": {},
          "execution_count": 8
        }
      ]
    },
    {
      "cell_type": "markdown",
      "metadata": {
        "id": "gGmBBPxZnVKC"
      },
      "source": [
        "## Descriptive Statistics"
      ]
    },
    {
      "cell_type": "code",
      "metadata": {
        "id": "I5VP2BMVnVrt",
        "colab": {
          "base_uri": "https://localhost:8080/"
        },
        "outputId": "47d9ff93-40f7-4e28-a9a7-712f32a83437"
      },
      "source": [
        "df_data.info()"
      ],
      "execution_count": 9,
      "outputs": [
        {
          "output_type": "stream",
          "name": "stdout",
          "text": [
            "<class 'pandas.core.frame.DataFrame'>\n",
            "Int64Index: 492 entries, 0 to 1989\n",
            "Data columns (total 96 columns):\n",
            " #   Column    Non-Null Count  Dtype  \n",
            "---  ------    --------------  -----  \n",
            " 0   ID        492 non-null    int64  \n",
            " 1   EARNINGS  492 non-null    float64\n",
            " 2   S         492 non-null    int64  \n",
            " 3   EXP       492 non-null    float64\n",
            " 4   FEMALE    492 non-null    int64  \n",
            " 5   MALE      492 non-null    int64  \n",
            " 6   BYEAR     492 non-null    int64  \n",
            " 7   AGE       492 non-null    int64  \n",
            " 8   AGEMBTH   492 non-null    float64\n",
            " 9   HHINC97   492 non-null    float64\n",
            " 10  POVRAT97  492 non-null    float64\n",
            " 11  HHBMBF    492 non-null    int64  \n",
            " 12  HHBMOF    492 non-null    int64  \n",
            " 13  HHOMBF    492 non-null    int64  \n",
            " 14  HHBMONLY  492 non-null    int64  \n",
            " 15  HHBFONLY  492 non-null    int64  \n",
            " 16  HHOTHER   492 non-null    int64  \n",
            " 17  MSA97NO   492 non-null    int64  \n",
            " 18  MSA97NCC  492 non-null    int64  \n",
            " 19  MSA97CC   492 non-null    int64  \n",
            " 20  MSA97NK   492 non-null    int64  \n",
            " 21  ETHBLACK  492 non-null    int64  \n",
            " 22  ETHHISP   492 non-null    int64  \n",
            " 23  ETHWHITE  492 non-null    int64  \n",
            " 24  EDUCPROF  492 non-null    int64  \n",
            " 25  EDUCPHD   492 non-null    int64  \n",
            " 26  EDUCMAST  492 non-null    int64  \n",
            " 27  EDUCBA    492 non-null    int64  \n",
            " 28  EDUCAA    492 non-null    int64  \n",
            " 29  EDUCHSD   492 non-null    int64  \n",
            " 30  EDUCGED   492 non-null    int64  \n",
            " 31  EDUCDO    492 non-null    int64  \n",
            " 32  PRMONM    492 non-null    float64\n",
            " 33  PRMONF    492 non-null    float64\n",
            " 34  PRMSTYUN  492 non-null    float64\n",
            " 35  PRMSTYPE  492 non-null    float64\n",
            " 36  PRMSTYAN  492 non-null    float64\n",
            " 37  PRMSTYAE  492 non-null    float64\n",
            " 38  PRFSTYUN  492 non-null    float64\n",
            " 39  PRFSTYPE  492 non-null    float64\n",
            " 40  PRFSTYAN  492 non-null    float64\n",
            " 41  PRFSTYAE  492 non-null    float64\n",
            " 42  SINGLE    492 non-null    int64  \n",
            " 43  MARRIED   492 non-null    int64  \n",
            " 44  COHABIT   492 non-null    int64  \n",
            " 45  OTHSING   492 non-null    int64  \n",
            " 46  FAITHN    492 non-null    int64  \n",
            " 47  FAITHP    492 non-null    int64  \n",
            " 48  FAITHC    492 non-null    int64  \n",
            " 49  FAITHJ    492 non-null    int64  \n",
            " 50  FAITHO    492 non-null    int64  \n",
            " 51  FAITHM    492 non-null    int64  \n",
            " 52  ASVABAR   492 non-null    float64\n",
            " 53  ASVABWK   492 non-null    float64\n",
            " 54  ASVABPC   492 non-null    float64\n",
            " 55  ASVABMK   492 non-null    float64\n",
            " 56  ASVABNO   492 non-null    float64\n",
            " 57  ASVABCS   492 non-null    float64\n",
            " 58  ASVABC    492 non-null    float64\n",
            " 59  ASVABC4   492 non-null    float64\n",
            " 60  VERBAL    492 non-null    float64\n",
            " 61  ASVABMV   492 non-null    int64  \n",
            " 62  HEIGHT    492 non-null    int64  \n",
            " 63  WEIGHT04  492 non-null    int64  \n",
            " 64  WEIGHT11  492 non-null    int64  \n",
            " 65  SF        492 non-null    int64  \n",
            " 66  SM        492 non-null    int64  \n",
            " 67  SFR       492 non-null    float64\n",
            " 68  SMR       492 non-null    float64\n",
            " 69  SIBLINGS  492 non-null    int64  \n",
            " 70  REG97NE   492 non-null    int64  \n",
            " 71  REG97NC   492 non-null    int64  \n",
            " 72  REG97S    492 non-null    int64  \n",
            " 73  REG97W    492 non-null    int64  \n",
            " 74  RS97RURL  492 non-null    int64  \n",
            " 75  RS97URBN  492 non-null    int64  \n",
            " 76  RS97UNKN  492 non-null    int64  \n",
            " 77  JOBS      492 non-null    float64\n",
            " 78  HOURS     492 non-null    int64  \n",
            " 79  TENURE    492 non-null    float64\n",
            " 80  CATGOV    492 non-null    int64  \n",
            " 81  CATPRI    492 non-null    int64  \n",
            " 82  CATNPO    492 non-null    int64  \n",
            " 83  CATMIS    492 non-null    int64  \n",
            " 84  CATSE     492 non-null    int64  \n",
            " 85  COLLBARG  492 non-null    int64  \n",
            " 86  URBAN     492 non-null    int64  \n",
            " 87  REGNE     492 non-null    int64  \n",
            " 88  REGNC     492 non-null    int64  \n",
            " 89  REGW      492 non-null    int64  \n",
            " 90  REGS      492 non-null    int64  \n",
            " 91  MSA11NO   492 non-null    int64  \n",
            " 92  MSA11NCC  492 non-null    int64  \n",
            " 93  MSA11CC   492 non-null    int64  \n",
            " 94  MSA11NK   492 non-null    int64  \n",
            " 95  MSA11NIC  492 non-null    int64  \n",
            "dtypes: float64(28), int64(68)\n",
            "memory usage: 372.8 KB\n"
          ]
        }
      ]
    },
    {
      "cell_type": "code",
      "source": [
        "df_data.describe()"
      ],
      "metadata": {
        "colab": {
          "base_uri": "https://localhost:8080/",
          "height": 394
        },
        "id": "RpBsTskH3LE6",
        "outputId": "decd9196-54d8-468f-b0d7-5927dfd8f254"
      },
      "execution_count": 16,
      "outputs": [
        {
          "output_type": "execute_result",
          "data": {
            "text/plain": [
              "            ID  EARNINGS      S    EXP  FEMALE   MALE    BYEAR    AGE  \\\n",
              "count   492.00    492.00 492.00 492.00  492.00 492.00   492.00 492.00   \n",
              "mean  3,530.57     19.13  14.89   5.92    0.49   0.51 1,982.98  28.02   \n",
              "std   1,948.08     11.54   2.69   2.51    0.50   0.50     0.82   0.82   \n",
              "min      28.00      2.13   8.00   0.00    0.00   0.00 1,982.00  27.00   \n",
              "25%   1,833.25     12.00  12.00   4.24    0.00   0.00 1,982.00  27.00   \n",
              "50%   3,470.50     16.00  16.00   5.75    0.00   1.00 1,983.00  28.00   \n",
              "75%   5,186.75     24.04  17.00   7.75    1.00   1.00 1,984.00  29.00   \n",
              "max   8,978.00    123.08  20.00  12.33    1.00   1.00 1,984.00  29.00   \n",
              "\n",
              "       AGEMBTH    HHINC97  ...  URBAN  REGNE  REGNC   REGW   REGS  MSA11NO  \\\n",
              "count   492.00     492.00  ... 492.00 492.00 492.00 492.00 492.00   492.00   \n",
              "mean     26.74  66,732.78  ...   0.75   0.13   0.31   0.35   0.21     0.05   \n",
              "std       4.71  44,951.87  ...   0.44   0.33   0.46   0.48   0.41     0.22   \n",
              "min      17.00       0.00  ...   0.00   0.00   0.00   0.00   0.00     0.00   \n",
              "25%      24.00  40,725.00  ...   0.00   0.00   0.00   0.00   0.00     0.00   \n",
              "50%      26.00  58,027.50  ...   1.00   0.00   0.00   0.00   0.00     0.00   \n",
              "75%      30.00  77,432.50  ...   1.00   0.00   1.00   1.00   0.00     0.00   \n",
              "max      41.00 246,474.00  ...   2.00   1.00   1.00   1.00   1.00     1.00   \n",
              "\n",
              "       MSA11NCC  MSA11CC  MSA11NK  MSA11NIC  \n",
              "count    492.00   492.00   492.00    492.00  \n",
              "mean       0.54     0.41     0.00      0.00  \n",
              "std        0.50     0.49     0.05      0.00  \n",
              "min        0.00     0.00     0.00      0.00  \n",
              "25%        0.00     0.00     0.00      0.00  \n",
              "50%        1.00     0.00     0.00      0.00  \n",
              "75%        1.00     1.00     0.00      0.00  \n",
              "max        1.00     1.00     1.00      0.00  \n",
              "\n",
              "[8 rows x 96 columns]"
            ],
            "text/html": [
              "\n",
              "  <div id=\"df-82d86c93-4ea7-4759-a526-52618fdb0610\">\n",
              "    <div class=\"colab-df-container\">\n",
              "      <div>\n",
              "<style scoped>\n",
              "    .dataframe tbody tr th:only-of-type {\n",
              "        vertical-align: middle;\n",
              "    }\n",
              "\n",
              "    .dataframe tbody tr th {\n",
              "        vertical-align: top;\n",
              "    }\n",
              "\n",
              "    .dataframe thead th {\n",
              "        text-align: right;\n",
              "    }\n",
              "</style>\n",
              "<table border=\"1\" class=\"dataframe\">\n",
              "  <thead>\n",
              "    <tr style=\"text-align: right;\">\n",
              "      <th></th>\n",
              "      <th>ID</th>\n",
              "      <th>EARNINGS</th>\n",
              "      <th>S</th>\n",
              "      <th>EXP</th>\n",
              "      <th>FEMALE</th>\n",
              "      <th>MALE</th>\n",
              "      <th>BYEAR</th>\n",
              "      <th>AGE</th>\n",
              "      <th>AGEMBTH</th>\n",
              "      <th>HHINC97</th>\n",
              "      <th>...</th>\n",
              "      <th>URBAN</th>\n",
              "      <th>REGNE</th>\n",
              "      <th>REGNC</th>\n",
              "      <th>REGW</th>\n",
              "      <th>REGS</th>\n",
              "      <th>MSA11NO</th>\n",
              "      <th>MSA11NCC</th>\n",
              "      <th>MSA11CC</th>\n",
              "      <th>MSA11NK</th>\n",
              "      <th>MSA11NIC</th>\n",
              "    </tr>\n",
              "  </thead>\n",
              "  <tbody>\n",
              "    <tr>\n",
              "      <th>count</th>\n",
              "      <td>492.00</td>\n",
              "      <td>492.00</td>\n",
              "      <td>492.00</td>\n",
              "      <td>492.00</td>\n",
              "      <td>492.00</td>\n",
              "      <td>492.00</td>\n",
              "      <td>492.00</td>\n",
              "      <td>492.00</td>\n",
              "      <td>492.00</td>\n",
              "      <td>492.00</td>\n",
              "      <td>...</td>\n",
              "      <td>492.00</td>\n",
              "      <td>492.00</td>\n",
              "      <td>492.00</td>\n",
              "      <td>492.00</td>\n",
              "      <td>492.00</td>\n",
              "      <td>492.00</td>\n",
              "      <td>492.00</td>\n",
              "      <td>492.00</td>\n",
              "      <td>492.00</td>\n",
              "      <td>492.00</td>\n",
              "    </tr>\n",
              "    <tr>\n",
              "      <th>mean</th>\n",
              "      <td>3,530.57</td>\n",
              "      <td>19.13</td>\n",
              "      <td>14.89</td>\n",
              "      <td>5.92</td>\n",
              "      <td>0.49</td>\n",
              "      <td>0.51</td>\n",
              "      <td>1,982.98</td>\n",
              "      <td>28.02</td>\n",
              "      <td>26.74</td>\n",
              "      <td>66,732.78</td>\n",
              "      <td>...</td>\n",
              "      <td>0.75</td>\n",
              "      <td>0.13</td>\n",
              "      <td>0.31</td>\n",
              "      <td>0.35</td>\n",
              "      <td>0.21</td>\n",
              "      <td>0.05</td>\n",
              "      <td>0.54</td>\n",
              "      <td>0.41</td>\n",
              "      <td>0.00</td>\n",
              "      <td>0.00</td>\n",
              "    </tr>\n",
              "    <tr>\n",
              "      <th>std</th>\n",
              "      <td>1,948.08</td>\n",
              "      <td>11.54</td>\n",
              "      <td>2.69</td>\n",
              "      <td>2.51</td>\n",
              "      <td>0.50</td>\n",
              "      <td>0.50</td>\n",
              "      <td>0.82</td>\n",
              "      <td>0.82</td>\n",
              "      <td>4.71</td>\n",
              "      <td>44,951.87</td>\n",
              "      <td>...</td>\n",
              "      <td>0.44</td>\n",
              "      <td>0.33</td>\n",
              "      <td>0.46</td>\n",
              "      <td>0.48</td>\n",
              "      <td>0.41</td>\n",
              "      <td>0.22</td>\n",
              "      <td>0.50</td>\n",
              "      <td>0.49</td>\n",
              "      <td>0.05</td>\n",
              "      <td>0.00</td>\n",
              "    </tr>\n",
              "    <tr>\n",
              "      <th>min</th>\n",
              "      <td>28.00</td>\n",
              "      <td>2.13</td>\n",
              "      <td>8.00</td>\n",
              "      <td>0.00</td>\n",
              "      <td>0.00</td>\n",
              "      <td>0.00</td>\n",
              "      <td>1,982.00</td>\n",
              "      <td>27.00</td>\n",
              "      <td>17.00</td>\n",
              "      <td>0.00</td>\n",
              "      <td>...</td>\n",
              "      <td>0.00</td>\n",
              "      <td>0.00</td>\n",
              "      <td>0.00</td>\n",
              "      <td>0.00</td>\n",
              "      <td>0.00</td>\n",
              "      <td>0.00</td>\n",
              "      <td>0.00</td>\n",
              "      <td>0.00</td>\n",
              "      <td>0.00</td>\n",
              "      <td>0.00</td>\n",
              "    </tr>\n",
              "    <tr>\n",
              "      <th>25%</th>\n",
              "      <td>1,833.25</td>\n",
              "      <td>12.00</td>\n",
              "      <td>12.00</td>\n",
              "      <td>4.24</td>\n",
              "      <td>0.00</td>\n",
              "      <td>0.00</td>\n",
              "      <td>1,982.00</td>\n",
              "      <td>27.00</td>\n",
              "      <td>24.00</td>\n",
              "      <td>40,725.00</td>\n",
              "      <td>...</td>\n",
              "      <td>0.00</td>\n",
              "      <td>0.00</td>\n",
              "      <td>0.00</td>\n",
              "      <td>0.00</td>\n",
              "      <td>0.00</td>\n",
              "      <td>0.00</td>\n",
              "      <td>0.00</td>\n",
              "      <td>0.00</td>\n",
              "      <td>0.00</td>\n",
              "      <td>0.00</td>\n",
              "    </tr>\n",
              "    <tr>\n",
              "      <th>50%</th>\n",
              "      <td>3,470.50</td>\n",
              "      <td>16.00</td>\n",
              "      <td>16.00</td>\n",
              "      <td>5.75</td>\n",
              "      <td>0.00</td>\n",
              "      <td>1.00</td>\n",
              "      <td>1,983.00</td>\n",
              "      <td>28.00</td>\n",
              "      <td>26.00</td>\n",
              "      <td>58,027.50</td>\n",
              "      <td>...</td>\n",
              "      <td>1.00</td>\n",
              "      <td>0.00</td>\n",
              "      <td>0.00</td>\n",
              "      <td>0.00</td>\n",
              "      <td>0.00</td>\n",
              "      <td>0.00</td>\n",
              "      <td>1.00</td>\n",
              "      <td>0.00</td>\n",
              "      <td>0.00</td>\n",
              "      <td>0.00</td>\n",
              "    </tr>\n",
              "    <tr>\n",
              "      <th>75%</th>\n",
              "      <td>5,186.75</td>\n",
              "      <td>24.04</td>\n",
              "      <td>17.00</td>\n",
              "      <td>7.75</td>\n",
              "      <td>1.00</td>\n",
              "      <td>1.00</td>\n",
              "      <td>1,984.00</td>\n",
              "      <td>29.00</td>\n",
              "      <td>30.00</td>\n",
              "      <td>77,432.50</td>\n",
              "      <td>...</td>\n",
              "      <td>1.00</td>\n",
              "      <td>0.00</td>\n",
              "      <td>1.00</td>\n",
              "      <td>1.00</td>\n",
              "      <td>0.00</td>\n",
              "      <td>0.00</td>\n",
              "      <td>1.00</td>\n",
              "      <td>1.00</td>\n",
              "      <td>0.00</td>\n",
              "      <td>0.00</td>\n",
              "    </tr>\n",
              "    <tr>\n",
              "      <th>max</th>\n",
              "      <td>8,978.00</td>\n",
              "      <td>123.08</td>\n",
              "      <td>20.00</td>\n",
              "      <td>12.33</td>\n",
              "      <td>1.00</td>\n",
              "      <td>1.00</td>\n",
              "      <td>1,984.00</td>\n",
              "      <td>29.00</td>\n",
              "      <td>41.00</td>\n",
              "      <td>246,474.00</td>\n",
              "      <td>...</td>\n",
              "      <td>2.00</td>\n",
              "      <td>1.00</td>\n",
              "      <td>1.00</td>\n",
              "      <td>1.00</td>\n",
              "      <td>1.00</td>\n",
              "      <td>1.00</td>\n",
              "      <td>1.00</td>\n",
              "      <td>1.00</td>\n",
              "      <td>1.00</td>\n",
              "      <td>0.00</td>\n",
              "    </tr>\n",
              "  </tbody>\n",
              "</table>\n",
              "<p>8 rows × 96 columns</p>\n",
              "</div>\n",
              "      <button class=\"colab-df-convert\" onclick=\"convertToInteractive('df-82d86c93-4ea7-4759-a526-52618fdb0610')\"\n",
              "              title=\"Convert this dataframe to an interactive table.\"\n",
              "              style=\"display:none;\">\n",
              "        \n",
              "  <svg xmlns=\"http://www.w3.org/2000/svg\" height=\"24px\"viewBox=\"0 0 24 24\"\n",
              "       width=\"24px\">\n",
              "    <path d=\"M0 0h24v24H0V0z\" fill=\"none\"/>\n",
              "    <path d=\"M18.56 5.44l.94 2.06.94-2.06 2.06-.94-2.06-.94-.94-2.06-.94 2.06-2.06.94zm-11 1L8.5 8.5l.94-2.06 2.06-.94-2.06-.94L8.5 2.5l-.94 2.06-2.06.94zm10 10l.94 2.06.94-2.06 2.06-.94-2.06-.94-.94-2.06-.94 2.06-2.06.94z\"/><path d=\"M17.41 7.96l-1.37-1.37c-.4-.4-.92-.59-1.43-.59-.52 0-1.04.2-1.43.59L10.3 9.45l-7.72 7.72c-.78.78-.78 2.05 0 2.83L4 21.41c.39.39.9.59 1.41.59.51 0 1.02-.2 1.41-.59l7.78-7.78 2.81-2.81c.8-.78.8-2.07 0-2.86zM5.41 20L4 18.59l7.72-7.72 1.47 1.35L5.41 20z\"/>\n",
              "  </svg>\n",
              "      </button>\n",
              "      \n",
              "  <style>\n",
              "    .colab-df-container {\n",
              "      display:flex;\n",
              "      flex-wrap:wrap;\n",
              "      gap: 12px;\n",
              "    }\n",
              "\n",
              "    .colab-df-convert {\n",
              "      background-color: #E8F0FE;\n",
              "      border: none;\n",
              "      border-radius: 50%;\n",
              "      cursor: pointer;\n",
              "      display: none;\n",
              "      fill: #1967D2;\n",
              "      height: 32px;\n",
              "      padding: 0 0 0 0;\n",
              "      width: 32px;\n",
              "    }\n",
              "\n",
              "    .colab-df-convert:hover {\n",
              "      background-color: #E2EBFA;\n",
              "      box-shadow: 0px 1px 2px rgba(60, 64, 67, 0.3), 0px 1px 3px 1px rgba(60, 64, 67, 0.15);\n",
              "      fill: #174EA6;\n",
              "    }\n",
              "\n",
              "    [theme=dark] .colab-df-convert {\n",
              "      background-color: #3B4455;\n",
              "      fill: #D2E3FC;\n",
              "    }\n",
              "\n",
              "    [theme=dark] .colab-df-convert:hover {\n",
              "      background-color: #434B5C;\n",
              "      box-shadow: 0px 1px 3px 1px rgba(0, 0, 0, 0.15);\n",
              "      filter: drop-shadow(0px 1px 2px rgba(0, 0, 0, 0.3));\n",
              "      fill: #FFFFFF;\n",
              "    }\n",
              "  </style>\n",
              "\n",
              "      <script>\n",
              "        const buttonEl =\n",
              "          document.querySelector('#df-82d86c93-4ea7-4759-a526-52618fdb0610 button.colab-df-convert');\n",
              "        buttonEl.style.display =\n",
              "          google.colab.kernel.accessAllowed ? 'block' : 'none';\n",
              "\n",
              "        async function convertToInteractive(key) {\n",
              "          const element = document.querySelector('#df-82d86c93-4ea7-4759-a526-52618fdb0610');\n",
              "          const dataTable =\n",
              "            await google.colab.kernel.invokeFunction('convertToInteractive',\n",
              "                                                     [key], {});\n",
              "          if (!dataTable) return;\n",
              "\n",
              "          const docLinkHtml = 'Like what you see? Visit the ' +\n",
              "            '<a target=\"_blank\" href=https://colab.research.google.com/notebooks/data_table.ipynb>data table notebook</a>'\n",
              "            + ' to learn more about interactive tables.';\n",
              "          element.innerHTML = '';\n",
              "          dataTable['output_type'] = 'display_data';\n",
              "          await google.colab.output.renderOutput(dataTable, element);\n",
              "          const docLink = document.createElement('div');\n",
              "          docLink.innerHTML = docLinkHtml;\n",
              "          element.appendChild(docLink);\n",
              "        }\n",
              "      </script>\n",
              "    </div>\n",
              "  </div>\n",
              "  "
            ]
          },
          "metadata": {},
          "execution_count": 16
        }
      ]
    },
    {
      "cell_type": "markdown",
      "metadata": {
        "id": "9i4zHYG4nhDL"
      },
      "source": [
        "# Split Training & Test Dataset\n",
        "\n",
        "We *can't* use all the entries in our dataset to train our model. Keep 20% of the data for later as a testing dataset (out-of-sample data).  "
      ]
    },
    {
      "cell_type": "code",
      "source": [
        "y = df_data.EARNINGS\n",
        "X = df_data.drop(\"EARNINGS\", axis=1)"
      ],
      "metadata": {
        "id": "vcr-Rmp65qAR"
      },
      "execution_count": 14,
      "outputs": []
    },
    {
      "cell_type": "code",
      "source": [
        "print(X.head(), y.head())"
      ],
      "metadata": {
        "id": "ANHQUwst5_9W",
        "colab": {
          "base_uri": "https://localhost:8080/"
        },
        "outputId": "544eb3b5-4013-4f85-faf9-cf1dcf0ef6ec"
      },
      "execution_count": 15,
      "outputs": [
        {
          "output_type": "stream",
          "name": "stdout",
          "text": [
            "     ID   S  EXP  FEMALE  MALE  BYEAR  AGE  AGEMBTH    HHINC97  POVRAT97  ...  \\\n",
            "0  4275  12 9.71       0     1   1984   27    24.00  64,000.00    402.00  ...   \n",
            "4  1994  15 2.94       0     1   1984   27    23.00  44,188.00    278.00  ...   \n",
            "5  2788  12 8.02       0     1   1983   28    25.00  97,400.00    612.00  ...   \n",
            "6  3473  13 9.79       0     1   1983   28    23.00  70,751.00    445.00  ...   \n",
            "8  1239  14 6.85       0     1   1983   28    25.00 246,474.00  1,627.00  ...   \n",
            "\n",
            "   URBAN  REGNE  REGNC  REGW  REGS  MSA11NO  MSA11NCC  MSA11CC  MSA11NK  \\\n",
            "0      1      0      0     1     0        0         0        1        0   \n",
            "4      1      0      0     0     1        0         0        1        0   \n",
            "5      1      0      1     0     0        0         0        1        0   \n",
            "6      1      0      0     1     0        0         1        0        0   \n",
            "8      1      0      0     0     1        0         0        1        0   \n",
            "\n",
            "   MSA11NIC  \n",
            "0         0  \n",
            "4         0  \n",
            "5         0  \n",
            "6         0  \n",
            "8         0  \n",
            "\n",
            "[5 rows x 95 columns] 0   18.50\n",
            "4   36.06\n",
            "5   13.14\n",
            "6   10.00\n",
            "8   20.19\n",
            "Name: EARNINGS, dtype: float64\n"
          ]
        }
      ]
    },
    {
      "cell_type": "code",
      "metadata": {
        "id": "M_OfRSyunkA1"
      },
      "source": [
        "X_train, X_test, y_train, y_test = train_test_split(\n",
        "    X, y, test_size=.2, random_state=10\n",
        ")"
      ],
      "execution_count": 17,
      "outputs": []
    },
    {
      "cell_type": "markdown",
      "metadata": {
        "id": "EM99NOH0noFS"
      },
      "source": [
        "# Simple Linear Regression\n",
        "\n",
        "Only use the years of schooling to predict earnings. Use sklearn to run the regression on the training dataset. How high is the r-squared for the regression on the training data? "
      ]
    },
    {
      "cell_type": "code",
      "metadata": {
        "id": "J_MViuoNnvHf"
      },
      "source": [
        "regression = LinearRegression()"
      ],
      "execution_count": 18,
      "outputs": []
    },
    {
      "cell_type": "code",
      "source": [
        "regression.fit(X_train, y_train)"
      ],
      "metadata": {
        "colab": {
          "base_uri": "https://localhost:8080/"
        },
        "id": "wp53PlEw8sY3",
        "outputId": "5f40a9d4-82a9-4c74-8304-e0daa27afda9"
      },
      "execution_count": 21,
      "outputs": [
        {
          "output_type": "execute_result",
          "data": {
            "text/plain": [
              "LinearRegression()"
            ]
          },
          "metadata": {},
          "execution_count": 21
        }
      ]
    },
    {
      "cell_type": "code",
      "source": [
        "regression.intercept_"
      ],
      "metadata": {
        "colab": {
          "base_uri": "https://localhost:8080/"
        },
        "id": "YZT0Or418lNX",
        "outputId": "dd5ee651-97d3-48cf-81f8-fe316c757819"
      },
      "execution_count": 22,
      "outputs": [
        {
          "output_type": "execute_result",
          "data": {
            "text/plain": [
              "17205.71632503607"
            ]
          },
          "metadata": {},
          "execution_count": 22
        }
      ]
    },
    {
      "cell_type": "markdown",
      "metadata": {
        "id": "s2TeWKs7oJSa"
      },
      "source": [
        "### Evaluate the Coefficients of the Model\n",
        "\n",
        "Here we do a sense check on our regression coefficients. The first thing to look for is if the coefficients have the expected sign (positive or negative). \n",
        "\n",
        "Interpret the regression. How many extra dollars can one expect to earn for an additional year of schooling?"
      ]
    },
    {
      "cell_type": "code",
      "metadata": {
        "id": "QmhzZAmAoW4t",
        "colab": {
          "base_uri": "https://localhost:8080/"
        },
        "outputId": "e234ea31-8228-481a-d56a-97c27ccf43fb"
      },
      "source": [
        "regression.coef_"
      ],
      "execution_count": 25,
      "outputs": [
        {
          "output_type": "execute_result",
          "data": {
            "text/plain": [
              "array([ 4.38191516e-04,  9.26486012e-01,  8.95843304e-01, -1.30178805e+01,\n",
              "       -7.66973999e+00, -9.94076589e+00, -1.14333807e+01, -9.50698253e-02,\n",
              "        5.62731027e-05, -5.17780649e-03,  8.16174950e+00,  6.14336655e+00,\n",
              "        1.61850972e+01, -4.06631581e+00,  1.84704703e+00,  2.62854933e+00,\n",
              "        5.90438935e+00,  8.61139032e+00,  7.90092724e+00, -1.15901471e+00,\n",
              "       -3.59121198e+00,  9.48844714e-01, -3.35013197e+00,  1.46086089e+01,\n",
              "       -1.00069494e+01,  5.03220239e+00, -1.39601609e-01, -1.76243876e+00,\n",
              "       -1.72661109e+00, -2.50731867e+00, -1.65406151e+00,  1.53464497e-01,\n",
              "       -1.60324213e-01,  3.80267849e-02, -6.17333698e-01, -2.46434621e-02,\n",
              "        1.22019605e+00, -2.76797238e+00, -2.07609990e+00, -2.93878385e+00,\n",
              "       -3.00509891e+00, -1.22224405e+00,  4.57470936e-01, -1.73362880e+00,\n",
              "       -2.54806760e+00, -8.31787927e-01, -2.66477892e+00, -5.39861610e+00,\n",
              "        4.48245001e-01,  3.42616069e+00,  4.10308829e+00,  4.95183530e+04,\n",
              "        3.26603688e+06,  3.26604117e+06,  3.85321966e+05,  1.92163846e+00,\n",
              "       -5.42384522e-01,  6.11027064e+05, -1.37697899e+06, -5.71676706e+06,\n",
              "        6.14004384e-05, -1.90350841e-01, -7.15902099e-03, -2.61952400e-03,\n",
              "       -6.86001842e-01, -6.34301216e+00,  9.31502653e-01,  6.45618614e+00,\n",
              "       -1.86644357e-01, -4.49138057e-01, -7.60715873e+00, -7.08372256e+00,\n",
              "       -4.25542011e+00, -4.46139349e-01, -4.18246203e-02,  0.00000000e+00,\n",
              "       -2.67604539e-01,  4.51961125e-02,  5.00705158e-01, -1.14760737e+00,\n",
              "        2.45010945e+00,  2.84375728e-01, -1.70330340e+00,  8.03164620e+00,\n",
              "        5.94463565e+00,  6.67175749e-01, -3.01045060e+00,  1.33337394e+00,\n",
              "        4.62585298e+00,  3.73597443e+00,  3.67987313e+00, -2.45571767e-01,\n",
              "       -1.07847732e+00, -7.99316000e+00,  0.00000000e+00])"
            ]
          },
          "metadata": {},
          "execution_count": 25
        }
      ]
    },
    {
      "cell_type": "code",
      "metadata": {
        "id": "e9hpdAt3oWnq"
      },
      "source": [
        "coefficients_df = pd.DataFrame({\"features\": X.columns,\"value\": regression.coef_})"
      ],
      "execution_count": 32,
      "outputs": []
    },
    {
      "cell_type": "code",
      "source": [
        "coefficients_df.head()"
      ],
      "metadata": {
        "colab": {
          "base_uri": "https://localhost:8080/",
          "height": 206
        },
        "id": "kaJkVi3o9khu",
        "outputId": "0383fa09-95c7-49dc-c665-7705bb074197"
      },
      "execution_count": 33,
      "outputs": [
        {
          "output_type": "execute_result",
          "data": {
            "text/plain": [
              "  features  value\n",
              "0       ID   0.00\n",
              "1        S   0.93\n",
              "2      EXP   0.90\n",
              "3   FEMALE -13.02\n",
              "4     MALE  -7.67"
            ],
            "text/html": [
              "\n",
              "  <div id=\"df-636a21d3-c4a5-4fe5-9fa5-05ea81cc6f65\">\n",
              "    <div class=\"colab-df-container\">\n",
              "      <div>\n",
              "<style scoped>\n",
              "    .dataframe tbody tr th:only-of-type {\n",
              "        vertical-align: middle;\n",
              "    }\n",
              "\n",
              "    .dataframe tbody tr th {\n",
              "        vertical-align: top;\n",
              "    }\n",
              "\n",
              "    .dataframe thead th {\n",
              "        text-align: right;\n",
              "    }\n",
              "</style>\n",
              "<table border=\"1\" class=\"dataframe\">\n",
              "  <thead>\n",
              "    <tr style=\"text-align: right;\">\n",
              "      <th></th>\n",
              "      <th>features</th>\n",
              "      <th>value</th>\n",
              "    </tr>\n",
              "  </thead>\n",
              "  <tbody>\n",
              "    <tr>\n",
              "      <th>0</th>\n",
              "      <td>ID</td>\n",
              "      <td>0.00</td>\n",
              "    </tr>\n",
              "    <tr>\n",
              "      <th>1</th>\n",
              "      <td>S</td>\n",
              "      <td>0.93</td>\n",
              "    </tr>\n",
              "    <tr>\n",
              "      <th>2</th>\n",
              "      <td>EXP</td>\n",
              "      <td>0.90</td>\n",
              "    </tr>\n",
              "    <tr>\n",
              "      <th>3</th>\n",
              "      <td>FEMALE</td>\n",
              "      <td>-13.02</td>\n",
              "    </tr>\n",
              "    <tr>\n",
              "      <th>4</th>\n",
              "      <td>MALE</td>\n",
              "      <td>-7.67</td>\n",
              "    </tr>\n",
              "  </tbody>\n",
              "</table>\n",
              "</div>\n",
              "      <button class=\"colab-df-convert\" onclick=\"convertToInteractive('df-636a21d3-c4a5-4fe5-9fa5-05ea81cc6f65')\"\n",
              "              title=\"Convert this dataframe to an interactive table.\"\n",
              "              style=\"display:none;\">\n",
              "        \n",
              "  <svg xmlns=\"http://www.w3.org/2000/svg\" height=\"24px\"viewBox=\"0 0 24 24\"\n",
              "       width=\"24px\">\n",
              "    <path d=\"M0 0h24v24H0V0z\" fill=\"none\"/>\n",
              "    <path d=\"M18.56 5.44l.94 2.06.94-2.06 2.06-.94-2.06-.94-.94-2.06-.94 2.06-2.06.94zm-11 1L8.5 8.5l.94-2.06 2.06-.94-2.06-.94L8.5 2.5l-.94 2.06-2.06.94zm10 10l.94 2.06.94-2.06 2.06-.94-2.06-.94-.94-2.06-.94 2.06-2.06.94z\"/><path d=\"M17.41 7.96l-1.37-1.37c-.4-.4-.92-.59-1.43-.59-.52 0-1.04.2-1.43.59L10.3 9.45l-7.72 7.72c-.78.78-.78 2.05 0 2.83L4 21.41c.39.39.9.59 1.41.59.51 0 1.02-.2 1.41-.59l7.78-7.78 2.81-2.81c.8-.78.8-2.07 0-2.86zM5.41 20L4 18.59l7.72-7.72 1.47 1.35L5.41 20z\"/>\n",
              "  </svg>\n",
              "      </button>\n",
              "      \n",
              "  <style>\n",
              "    .colab-df-container {\n",
              "      display:flex;\n",
              "      flex-wrap:wrap;\n",
              "      gap: 12px;\n",
              "    }\n",
              "\n",
              "    .colab-df-convert {\n",
              "      background-color: #E8F0FE;\n",
              "      border: none;\n",
              "      border-radius: 50%;\n",
              "      cursor: pointer;\n",
              "      display: none;\n",
              "      fill: #1967D2;\n",
              "      height: 32px;\n",
              "      padding: 0 0 0 0;\n",
              "      width: 32px;\n",
              "    }\n",
              "\n",
              "    .colab-df-convert:hover {\n",
              "      background-color: #E2EBFA;\n",
              "      box-shadow: 0px 1px 2px rgba(60, 64, 67, 0.3), 0px 1px 3px 1px rgba(60, 64, 67, 0.15);\n",
              "      fill: #174EA6;\n",
              "    }\n",
              "\n",
              "    [theme=dark] .colab-df-convert {\n",
              "      background-color: #3B4455;\n",
              "      fill: #D2E3FC;\n",
              "    }\n",
              "\n",
              "    [theme=dark] .colab-df-convert:hover {\n",
              "      background-color: #434B5C;\n",
              "      box-shadow: 0px 1px 3px 1px rgba(0, 0, 0, 0.15);\n",
              "      filter: drop-shadow(0px 1px 2px rgba(0, 0, 0, 0.3));\n",
              "      fill: #FFFFFF;\n",
              "    }\n",
              "  </style>\n",
              "\n",
              "      <script>\n",
              "        const buttonEl =\n",
              "          document.querySelector('#df-636a21d3-c4a5-4fe5-9fa5-05ea81cc6f65 button.colab-df-convert');\n",
              "        buttonEl.style.display =\n",
              "          google.colab.kernel.accessAllowed ? 'block' : 'none';\n",
              "\n",
              "        async function convertToInteractive(key) {\n",
              "          const element = document.querySelector('#df-636a21d3-c4a5-4fe5-9fa5-05ea81cc6f65');\n",
              "          const dataTable =\n",
              "            await google.colab.kernel.invokeFunction('convertToInteractive',\n",
              "                                                     [key], {});\n",
              "          if (!dataTable) return;\n",
              "\n",
              "          const docLinkHtml = 'Like what you see? Visit the ' +\n",
              "            '<a target=\"_blank\" href=https://colab.research.google.com/notebooks/data_table.ipynb>data table notebook</a>'\n",
              "            + ' to learn more about interactive tables.';\n",
              "          element.innerHTML = '';\n",
              "          dataTable['output_type'] = 'display_data';\n",
              "          await google.colab.output.renderOutput(dataTable, element);\n",
              "          const docLink = document.createElement('div');\n",
              "          docLink.innerHTML = docLinkHtml;\n",
              "          element.appendChild(docLink);\n",
              "        }\n",
              "      </script>\n",
              "    </div>\n",
              "  </div>\n",
              "  "
            ]
          },
          "metadata": {},
          "execution_count": 33
        }
      ]
    },
    {
      "cell_type": "code",
      "source": [
        "print(coefficients_df[coefficients_df.features == \"S\"])\n",
        "print(coefficients_df[coefficients_df.features == \"EDUCDO\"])\n",
        "print(coefficients_df[coefficients_df.features == \"EDUCHSD\"])\n",
        "print(coefficients_df[coefficients_df.features == \"EDUCAA\"])\n",
        "print(coefficients_df[coefficients_df.features == \"EDUCBA\"])\n",
        "print(coefficients_df[coefficients_df.features == \"EDUCMAST\"])\n",
        "print(coefficients_df[coefficients_df.features == \"EDUCPHD\"])\n",
        "print(coefficients_df[coefficients_df.features == \"EDUCPROF\"])"
      ],
      "metadata": {
        "colab": {
          "base_uri": "https://localhost:8080/"
        },
        "id": "of1W7tWu-NiP",
        "outputId": "f4e46458-b167-4f67-846a-c91d9d5fdebf"
      },
      "execution_count": 37,
      "outputs": [
        {
          "output_type": "stream",
          "name": "stdout",
          "text": [
            "  features  value\n",
            "1        S   0.93\n",
            "   features  value\n",
            "30   EDUCDO  -1.65\n",
            "   features  value\n",
            "28  EDUCHSD  -1.73\n",
            "   features  value\n",
            "27   EDUCAA  -1.76\n",
            "   features  value\n",
            "26   EDUCBA  -0.14\n",
            "    features  value\n",
            "25  EDUCMAST   5.03\n",
            "   features  value\n",
            "24  EDUCPHD -10.01\n",
            "    features  value\n",
            "23  EDUCPROF  14.61\n"
          ]
        }
      ]
    },
    {
      "cell_type": "code",
      "source": [],
      "metadata": {
        "id": "JFnZw8gV_i7m"
      },
      "execution_count": null,
      "outputs": []
    },
    {
      "cell_type": "markdown",
      "metadata": {
        "id": "WIyMPXXYobx8"
      },
      "source": [
        "### Analyse the Estimated Values & Regression Residuals\n",
        "\n",
        "How good our regression is also depends on the residuals - the difference between the model's predictions ( 𝑦̂ 𝑖 ) and the true values ( 𝑦𝑖 ) inside y_train. Do you see any patterns in the distribution of the residuals?"
      ]
    },
    {
      "cell_type": "code",
      "metadata": {
        "id": "khkgscweosP_",
        "colab": {
          "base_uri": "https://localhost:8080/"
        },
        "outputId": "c4ef8ccd-8777-4669-9fc4-86819cb2c6a5"
      },
      "source": [
        "regression.score(X_test, y_test)"
      ],
      "execution_count": 38,
      "outputs": [
        {
          "output_type": "execute_result",
          "data": {
            "text/plain": [
              "-0.1281886768925795"
            ]
          },
          "metadata": {},
          "execution_count": 38
        }
      ]
    },
    {
      "cell_type": "code",
      "metadata": {
        "id": "m_diDXSXotm6",
        "colab": {
          "base_uri": "https://localhost:8080/"
        },
        "outputId": "b2834ad1-d9d3-419a-e4eb-fa9849d92d17"
      },
      "source": [
        "predicted = regression.predict(X_test)\n",
        "residuals = y_test - predicted\n",
        "residuals"
      ],
      "execution_count": 39,
      "outputs": [
        {
          "output_type": "execute_result",
          "data": {
            "text/plain": [
              "877     -6.75\n",
              "1115     7.59\n",
              "489      1.65\n",
              "962     -3.48\n",
              "469      1.52\n",
              "        ...  \n",
              "1093    -0.52\n",
              "176     -5.69\n",
              "825     -5.12\n",
              "118    -10.03\n",
              "248      3.92\n",
              "Name: EARNINGS, Length: 99, dtype: float64"
            ]
          },
          "metadata": {},
          "execution_count": 39
        }
      ]
    },
    {
      "cell_type": "code",
      "metadata": {
        "id": "6DfAEUWNosHd"
      },
      "source": [],
      "execution_count": null,
      "outputs": []
    },
    {
      "cell_type": "markdown",
      "metadata": {
        "id": "zNBuJ1iBnvpl"
      },
      "source": [
        "# Multivariable Regression\n",
        "\n",
        "Now use both years of schooling and the years work experience to predict earnings. How high is the r-squared for the regression on the training data? "
      ]
    },
    {
      "cell_type": "code",
      "metadata": {
        "id": "Ihq-C4looCSM"
      },
      "source": [],
      "execution_count": null,
      "outputs": []
    },
    {
      "cell_type": "code",
      "metadata": {
        "id": "dRhB7Iwboyfq"
      },
      "source": [],
      "execution_count": null,
      "outputs": []
    },
    {
      "cell_type": "markdown",
      "metadata": {
        "id": "nHDtunM0oyuk"
      },
      "source": [
        "### Evaluate the Coefficients of the Model"
      ]
    },
    {
      "cell_type": "code",
      "metadata": {
        "id": "5vasqInIoydB"
      },
      "source": [],
      "execution_count": null,
      "outputs": []
    },
    {
      "cell_type": "markdown",
      "metadata": {
        "id": "Yv8q90IYou2Q"
      },
      "source": [
        "### Analyse the Estimated Values & Regression Residuals"
      ]
    },
    {
      "cell_type": "code",
      "metadata": {
        "id": "8NmXnsxfowkI"
      },
      "source": [],
      "execution_count": null,
      "outputs": []
    },
    {
      "cell_type": "code",
      "metadata": {
        "id": "0ZZ1e0spo5o1"
      },
      "source": [],
      "execution_count": null,
      "outputs": []
    },
    {
      "cell_type": "markdown",
      "metadata": {
        "id": "YWNeoqPLpjVb"
      },
      "source": [
        "# Use Your Model to Make a Prediction\n",
        "\n",
        "How much can someone with a bachelors degree (12 + 4) years of schooling and 5 years work experience expect to earn in 2011?"
      ]
    },
    {
      "cell_type": "code",
      "metadata": {
        "id": "Mof-14lCpv60"
      },
      "source": [],
      "execution_count": null,
      "outputs": []
    },
    {
      "cell_type": "code",
      "metadata": {
        "id": "3htX8_SBpvyb"
      },
      "source": [],
      "execution_count": null,
      "outputs": []
    },
    {
      "cell_type": "markdown",
      "metadata": {
        "id": "TIYI-eQepDSQ"
      },
      "source": [
        "# Experiment and Investigate Further\n",
        "\n",
        "Which other features could you consider adding to further improve the regression to better predict earnings? "
      ]
    },
    {
      "cell_type": "code",
      "metadata": {
        "id": "sd07-pKopJgo"
      },
      "source": [],
      "execution_count": null,
      "outputs": []
    },
    {
      "cell_type": "code",
      "metadata": {
        "id": "Fohe2-Rdp1MO"
      },
      "source": [],
      "execution_count": null,
      "outputs": []
    }
  ]
}